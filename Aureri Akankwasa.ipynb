{
 "cells": [
  {
   "cell_type": "code",
   "execution_count": 1,
   "metadata": {},
   "outputs": [],
   "source": [
    "import requests\n",
    "import lxml.html as lh\n",
    "import pandas as pd \n",
    "import numpy as np\n",
    "import matplotlib.pyplot as plt"
   ]
  },
  {
   "cell_type": "code",
   "execution_count": 2,
   "metadata": {},
   "outputs": [],
   "source": [
    "import pandas as pd\n",
    "import numpy as np\n",
    "import matplotlib.pyplot as plt\n",
    "plt.style.use('fivethirtyeight')\n",
    "%matplotlib inline"
   ]
  },
  {
   "cell_type": "code",
   "execution_count": 32,
   "metadata": {},
   "outputs": [],
   "source": [
    "# Code cell 3\n",
    "from sklearn.metrics import r2_score\n",
    "from scipy.optimize import curve_fit"
   ]
  },
  {
   "cell_type": "code",
   "execution_count": 6,
   "metadata": {},
   "outputs": [
    {
     "data": {
      "text/plain": [
       "[3, 3, 3, 3, 3, 3, 3, 3, 3, 3, 3, 3]"
      ]
     },
     "execution_count": 6,
     "metadata": {},
     "output_type": "execute_result"
    }
   ],
   "source": [
    "internet_data = 'https://github.com/mkumakech/students/blob/main/internet_traffic_hist.csv' #assign the wiki page\n",
    "#WHO_url = 'https://data.humdata.org/dataset/novel-coronavirus-2019-ncov-cases'\n",
    "\n",
    "page = requests.get(internet_data) # create a handle to for contents of the wiki page\n",
    "\n",
    "doc = lh.fromstring(page.content) # store content of the wiki page under doc\n",
    "\n",
    "tr_elements = doc.xpath('//tr') # parse data stored between tr in the html\n",
    "\n",
    "[len(T) for T in tr_elements[:12]] # check the length of the first 12 row"
   ]
  },
  {
   "cell_type": "code",
   "execution_count": 7,
   "metadata": {},
   "outputs": [
    {
     "name": "stdout",
     "output_type": "stream",
     "text": [
      "1:\n",
      "2:traffic\n",
      "3:year\n"
     ]
    }
   ],
   "source": [
    "tr_elements = doc.xpath('//tr') # parse first row as header\n",
    "\n",
    "col = [] # create empty list\n",
    "i = 0\n",
    "\n",
    "for t in tr_elements[0]: # for each row, store each first element (header) and an empty list\n",
    "    i+=1\n",
    "    name=t.text_content()\n",
    "    print(\"%d:%s\" % (i,name))\n",
    "    col.append((name,[]))"
   ]
  },
  {
   "cell_type": "code",
   "execution_count": 8,
   "metadata": {},
   "outputs": [],
   "source": [
    "for j in range(1,len(tr_elements)): # Because header is the first row, data would be store in the subsequent rows.\n",
    "    T = tr_elements[j] #T is j'th row\n",
    "    \n",
    "    if len(T)!=3: #if row is not size 3, //tr data is not from the table.\n",
    "        break\n",
    "        \n",
    "    i = 0 #i is the index of the first column\n",
    "    \n",
    "    for t in T.iterchildren(): #iterate through each element of the row\n",
    "        data=t.text_content()\n",
    "            \n",
    "        col[i][1].append(data) #append the data to the empty list of the i'th column\n",
    "            \n",
    "        i+=1 #increment i for the next column"
   ]
  },
  {
   "cell_type": "code",
   "execution_count": 9,
   "metadata": {},
   "outputs": [
    {
     "data": {
      "text/plain": [
       "[11, 11, 11]"
      ]
     },
     "execution_count": 9,
     "metadata": {},
     "output_type": "execute_result"
    }
   ],
   "source": [
    "[len(C) for (title,C) in col]"
   ]
  },
  {
   "cell_type": "code",
   "execution_count": 10,
   "metadata": {},
   "outputs": [],
   "source": [
    "Dict = {title:column for (title,column) in col}\n",
    "df = pd.DataFrame(Dict)"
   ]
  },
  {
   "cell_type": "code",
   "execution_count": 12,
   "metadata": {},
   "outputs": [
    {
     "data": {
      "text/html": [
       "<div>\n",
       "<style scoped>\n",
       "    .dataframe tbody tr th:only-of-type {\n",
       "        vertical-align: middle;\n",
       "    }\n",
       "\n",
       "    .dataframe tbody tr th {\n",
       "        vertical-align: top;\n",
       "    }\n",
       "\n",
       "    .dataframe thead th {\n",
       "        text-align: right;\n",
       "    }\n",
       "</style>\n",
       "<table border=\"1\" class=\"dataframe\">\n",
       "  <thead>\n",
       "    <tr style=\"text-align: right;\">\n",
       "      <th></th>\n",
       "      <th></th>\n",
       "      <th>traffic</th>\n",
       "      <th>year</th>\n",
       "    </tr>\n",
       "  </thead>\n",
       "  <tbody>\n",
       "    <tr>\n",
       "      <th>0</th>\n",
       "      <td></td>\n",
       "      <td>100.0</td>\n",
       "      <td>2005</td>\n",
       "    </tr>\n",
       "    <tr>\n",
       "      <th>1</th>\n",
       "      <td></td>\n",
       "      <td>126.933755273</td>\n",
       "      <td>2006</td>\n",
       "    </tr>\n",
       "    <tr>\n",
       "      <th>2</th>\n",
       "      <td></td>\n",
       "      <td>160.303756716</td>\n",
       "      <td>2007</td>\n",
       "    </tr>\n",
       "    <tr>\n",
       "      <th>3</th>\n",
       "      <td></td>\n",
       "      <td>203.390603064</td>\n",
       "      <td>2008</td>\n",
       "    </tr>\n",
       "    <tr>\n",
       "      <th>4</th>\n",
       "      <td></td>\n",
       "      <td>241.292565926</td>\n",
       "      <td>2009</td>\n",
       "    </tr>\n",
       "  </tbody>\n",
       "</table>\n",
       "</div>"
      ],
      "text/plain": [
       "           traffic  year\n",
       "0            100.0  2005\n",
       "1    126.933755273  2006\n",
       "2    160.303756716  2007\n",
       "3    203.390603064  2008\n",
       "4    241.292565926  2009"
      ]
     },
     "execution_count": 12,
     "metadata": {},
     "output_type": "execute_result"
    }
   ],
   "source": [
    "df.head()"
   ]
  },
  {
   "cell_type": "code",
   "execution_count": 13,
   "metadata": {},
   "outputs": [
    {
     "data": {
      "text/html": [
       "<div>\n",
       "<style scoped>\n",
       "    .dataframe tbody tr th:only-of-type {\n",
       "        vertical-align: middle;\n",
       "    }\n",
       "\n",
       "    .dataframe tbody tr th {\n",
       "        vertical-align: top;\n",
       "    }\n",
       "\n",
       "    .dataframe thead th {\n",
       "        text-align: right;\n",
       "    }\n",
       "</style>\n",
       "<table border=\"1\" class=\"dataframe\">\n",
       "  <thead>\n",
       "    <tr style=\"text-align: right;\">\n",
       "      <th></th>\n",
       "      <th></th>\n",
       "      <th>traffic</th>\n",
       "      <th>year</th>\n",
       "    </tr>\n",
       "  </thead>\n",
       "  <tbody>\n",
       "    <tr>\n",
       "      <th>6</th>\n",
       "      <td></td>\n",
       "      <td>379.980658982</td>\n",
       "      <td>2011</td>\n",
       "    </tr>\n",
       "    <tr>\n",
       "      <th>7</th>\n",
       "      <td></td>\n",
       "      <td>495.840568115</td>\n",
       "      <td>2012</td>\n",
       "    </tr>\n",
       "    <tr>\n",
       "      <th>8</th>\n",
       "      <td></td>\n",
       "      <td>616.207252004</td>\n",
       "      <td>2013</td>\n",
       "    </tr>\n",
       "    <tr>\n",
       "      <th>9</th>\n",
       "      <td></td>\n",
       "      <td>752.103482846</td>\n",
       "      <td>2014</td>\n",
       "    </tr>\n",
       "    <tr>\n",
       "      <th>10</th>\n",
       "      <td></td>\n",
       "      <td>931.200928711</td>\n",
       "      <td>2015</td>\n",
       "    </tr>\n",
       "  </tbody>\n",
       "</table>\n",
       "</div>"
      ],
      "text/plain": [
       "            traffic  year\n",
       "6     379.980658982  2011\n",
       "7     495.840568115  2012\n",
       "8     616.207252004  2013\n",
       "9     752.103482846  2014\n",
       "10    931.200928711  2015"
      ]
     },
     "execution_count": 13,
     "metadata": {},
     "output_type": "execute_result"
    }
   ],
   "source": [
    "df.tail()"
   ]
  },
  {
   "cell_type": "code",
   "execution_count": 14,
   "metadata": {},
   "outputs": [
    {
     "data": {
      "text/plain": [
       "(11, 3)"
      ]
     },
     "execution_count": 14,
     "metadata": {},
     "output_type": "execute_result"
    }
   ],
   "source": [
    "df.shape"
   ]
  },
  {
   "cell_type": "code",
   "execution_count": 15,
   "metadata": {},
   "outputs": [
    {
     "data": {
      "text/html": [
       "<div>\n",
       "<style scoped>\n",
       "    .dataframe tbody tr th:only-of-type {\n",
       "        vertical-align: middle;\n",
       "    }\n",
       "\n",
       "    .dataframe tbody tr th {\n",
       "        vertical-align: top;\n",
       "    }\n",
       "\n",
       "    .dataframe thead th {\n",
       "        text-align: right;\n",
       "    }\n",
       "</style>\n",
       "<table border=\"1\" class=\"dataframe\">\n",
       "  <thead>\n",
       "    <tr style=\"text-align: right;\">\n",
       "      <th></th>\n",
       "      <th></th>\n",
       "      <th>traffic</th>\n",
       "      <th>year</th>\n",
       "    </tr>\n",
       "  </thead>\n",
       "  <tbody>\n",
       "    <tr>\n",
       "      <th>count</th>\n",
       "      <td>11</td>\n",
       "      <td>11</td>\n",
       "      <td>11</td>\n",
       "    </tr>\n",
       "    <tr>\n",
       "      <th>unique</th>\n",
       "      <td>1</td>\n",
       "      <td>11</td>\n",
       "      <td>11</td>\n",
       "    </tr>\n",
       "    <tr>\n",
       "      <th>top</th>\n",
       "      <td></td>\n",
       "      <td>616.207252004</td>\n",
       "      <td>2013</td>\n",
       "    </tr>\n",
       "    <tr>\n",
       "      <th>freq</th>\n",
       "      <td>11</td>\n",
       "      <td>1</td>\n",
       "      <td>1</td>\n",
       "    </tr>\n",
       "  </tbody>\n",
       "</table>\n",
       "</div>"
      ],
      "text/plain": [
       "                  traffic  year\n",
       "count   11             11    11\n",
       "unique   1             11    11\n",
       "top         616.207252004  2013\n",
       "freq    11              1     1"
      ]
     },
     "execution_count": 15,
     "metadata": {},
     "output_type": "execute_result"
    }
   ],
   "source": [
    "df.describe()"
   ]
  },
  {
   "cell_type": "code",
   "execution_count": 16,
   "metadata": {},
   "outputs": [
    {
     "data": {
      "text/plain": [
       "           object\n",
       "traffic    object\n",
       "year       object\n",
       "dtype: object"
      ]
     },
     "execution_count": 16,
     "metadata": {},
     "output_type": "execute_result"
    }
   ],
   "source": [
    "df.dtypes"
   ]
  },
  {
   "cell_type": "code",
   "execution_count": 17,
   "metadata": {},
   "outputs": [
    {
     "data": {
      "text/html": [
       "<div>\n",
       "<style scoped>\n",
       "    .dataframe tbody tr th:only-of-type {\n",
       "        vertical-align: middle;\n",
       "    }\n",
       "\n",
       "    .dataframe tbody tr th {\n",
       "        vertical-align: top;\n",
       "    }\n",
       "\n",
       "    .dataframe thead th {\n",
       "        text-align: right;\n",
       "    }\n",
       "</style>\n",
       "<table border=\"1\" class=\"dataframe\">\n",
       "  <thead>\n",
       "    <tr style=\"text-align: right;\">\n",
       "      <th></th>\n",
       "      <th></th>\n",
       "      <th>traffic</th>\n",
       "      <th>year</th>\n",
       "    </tr>\n",
       "  </thead>\n",
       "  <tbody>\n",
       "    <tr>\n",
       "      <th>0</th>\n",
       "      <td></td>\n",
       "      <td>100.000000</td>\n",
       "      <td>2005.0</td>\n",
       "    </tr>\n",
       "    <tr>\n",
       "      <th>1</th>\n",
       "      <td></td>\n",
       "      <td>126.933755</td>\n",
       "      <td>2006.0</td>\n",
       "    </tr>\n",
       "    <tr>\n",
       "      <th>2</th>\n",
       "      <td></td>\n",
       "      <td>160.303757</td>\n",
       "      <td>2007.0</td>\n",
       "    </tr>\n",
       "    <tr>\n",
       "      <th>3</th>\n",
       "      <td></td>\n",
       "      <td>203.390603</td>\n",
       "      <td>2008.0</td>\n",
       "    </tr>\n",
       "    <tr>\n",
       "      <th>4</th>\n",
       "      <td></td>\n",
       "      <td>241.292566</td>\n",
       "      <td>2009.0</td>\n",
       "    </tr>\n",
       "  </tbody>\n",
       "</table>\n",
       "</div>"
      ],
      "text/plain": [
       "        traffic    year\n",
       "0    100.000000  2005.0\n",
       "1    126.933755  2006.0\n",
       "2    160.303757  2007.0\n",
       "3    203.390603  2008.0\n",
       "4    241.292566  2009.0"
      ]
     },
     "execution_count": 17,
     "metadata": {},
     "output_type": "execute_result"
    }
   ],
   "source": [
    "df['traffic'] = df.traffic.astype(float)\n",
    "df['year'] = df.year.astype(float)\n",
    "\n",
    "df.head()"
   ]
  },
  {
   "cell_type": "code",
   "execution_count": 18,
   "metadata": {},
   "outputs": [
    {
     "data": {
      "text/html": [
       "<div>\n",
       "<style scoped>\n",
       "    .dataframe tbody tr th:only-of-type {\n",
       "        vertical-align: middle;\n",
       "    }\n",
       "\n",
       "    .dataframe tbody tr th {\n",
       "        vertical-align: top;\n",
       "    }\n",
       "\n",
       "    .dataframe thead th {\n",
       "        text-align: right;\n",
       "    }\n",
       "</style>\n",
       "<table border=\"1\" class=\"dataframe\">\n",
       "  <thead>\n",
       "    <tr style=\"text-align: right;\">\n",
       "      <th></th>\n",
       "      <th></th>\n",
       "      <th>traffic</th>\n",
       "      <th>year</th>\n",
       "    </tr>\n",
       "  </thead>\n",
       "  <tbody>\n",
       "    <tr>\n",
       "      <th>0</th>\n",
       "      <td></td>\n",
       "      <td>100.000000</td>\n",
       "      <td>2005</td>\n",
       "    </tr>\n",
       "    <tr>\n",
       "      <th>1</th>\n",
       "      <td></td>\n",
       "      <td>126.933755</td>\n",
       "      <td>2006</td>\n",
       "    </tr>\n",
       "    <tr>\n",
       "      <th>2</th>\n",
       "      <td></td>\n",
       "      <td>160.303757</td>\n",
       "      <td>2007</td>\n",
       "    </tr>\n",
       "    <tr>\n",
       "      <th>3</th>\n",
       "      <td></td>\n",
       "      <td>203.390603</td>\n",
       "      <td>2008</td>\n",
       "    </tr>\n",
       "    <tr>\n",
       "      <th>4</th>\n",
       "      <td></td>\n",
       "      <td>241.292566</td>\n",
       "      <td>2009</td>\n",
       "    </tr>\n",
       "  </tbody>\n",
       "</table>\n",
       "</div>"
      ],
      "text/plain": [
       "        traffic  year\n",
       "0    100.000000  2005\n",
       "1    126.933755  2006\n",
       "2    160.303757  2007\n",
       "3    203.390603  2008\n",
       "4    241.292566  2009"
      ]
     },
     "execution_count": 18,
     "metadata": {},
     "output_type": "execute_result"
    }
   ],
   "source": [
    "df['traffic'] = df.traffic.astype(float)\n",
    "df['year'] = df.year.astype(int)\n",
    "\n",
    "df.head()"
   ]
  },
  {
   "cell_type": "code",
   "execution_count": 19,
   "metadata": {},
   "outputs": [
    {
     "data": {
      "text/html": [
       "<div>\n",
       "<style scoped>\n",
       "    .dataframe tbody tr th:only-of-type {\n",
       "        vertical-align: middle;\n",
       "    }\n",
       "\n",
       "    .dataframe tbody tr th {\n",
       "        vertical-align: top;\n",
       "    }\n",
       "\n",
       "    .dataframe thead th {\n",
       "        text-align: right;\n",
       "    }\n",
       "</style>\n",
       "<table border=\"1\" class=\"dataframe\">\n",
       "  <thead>\n",
       "    <tr style=\"text-align: right;\">\n",
       "      <th></th>\n",
       "      <th>traffic</th>\n",
       "      <th>year</th>\n",
       "    </tr>\n",
       "  </thead>\n",
       "  <tbody>\n",
       "    <tr>\n",
       "      <th>count</th>\n",
       "      <td>11.000000</td>\n",
       "      <td>11.000000</td>\n",
       "    </tr>\n",
       "    <tr>\n",
       "      <th>mean</th>\n",
       "      <td>392.367763</td>\n",
       "      <td>2010.000000</td>\n",
       "    </tr>\n",
       "    <tr>\n",
       "      <th>std</th>\n",
       "      <td>274.958904</td>\n",
       "      <td>3.316625</td>\n",
       "    </tr>\n",
       "    <tr>\n",
       "      <th>min</th>\n",
       "      <td>100.000000</td>\n",
       "      <td>2005.000000</td>\n",
       "    </tr>\n",
       "    <tr>\n",
       "      <th>25%</th>\n",
       "      <td>181.847180</td>\n",
       "      <td>2007.500000</td>\n",
       "    </tr>\n",
       "    <tr>\n",
       "      <th>50%</th>\n",
       "      <td>308.791823</td>\n",
       "      <td>2010.000000</td>\n",
       "    </tr>\n",
       "    <tr>\n",
       "      <th>75%</th>\n",
       "      <td>556.023910</td>\n",
       "      <td>2012.500000</td>\n",
       "    </tr>\n",
       "    <tr>\n",
       "      <th>max</th>\n",
       "      <td>931.200929</td>\n",
       "      <td>2015.000000</td>\n",
       "    </tr>\n",
       "  </tbody>\n",
       "</table>\n",
       "</div>"
      ],
      "text/plain": [
       "          traffic         year\n",
       "count   11.000000    11.000000\n",
       "mean   392.367763  2010.000000\n",
       "std    274.958904     3.316625\n",
       "min    100.000000  2005.000000\n",
       "25%    181.847180  2007.500000\n",
       "50%    308.791823  2010.000000\n",
       "75%    556.023910  2012.500000\n",
       "max    931.200929  2015.000000"
      ]
     },
     "execution_count": 19,
     "metadata": {},
     "output_type": "execute_result"
    }
   ],
   "source": [
    "df.describe()"
   ]
  },
  {
   "cell_type": "code",
   "execution_count": 20,
   "metadata": {},
   "outputs": [
    {
     "data": {
      "text/html": [
       "<div>\n",
       "<style scoped>\n",
       "    .dataframe tbody tr th:only-of-type {\n",
       "        vertical-align: middle;\n",
       "    }\n",
       "\n",
       "    .dataframe tbody tr th {\n",
       "        vertical-align: top;\n",
       "    }\n",
       "\n",
       "    .dataframe thead th {\n",
       "        text-align: right;\n",
       "    }\n",
       "</style>\n",
       "<table border=\"1\" class=\"dataframe\">\n",
       "  <thead>\n",
       "    <tr style=\"text-align: right;\">\n",
       "      <th></th>\n",
       "      <th>traffic</th>\n",
       "      <th>year</th>\n",
       "    </tr>\n",
       "  </thead>\n",
       "  <tbody>\n",
       "    <tr>\n",
       "      <th>0</th>\n",
       "      <td>100.000000</td>\n",
       "      <td>2005</td>\n",
       "    </tr>\n",
       "    <tr>\n",
       "      <th>1</th>\n",
       "      <td>126.933755</td>\n",
       "      <td>2006</td>\n",
       "    </tr>\n",
       "    <tr>\n",
       "      <th>2</th>\n",
       "      <td>160.303757</td>\n",
       "      <td>2007</td>\n",
       "    </tr>\n",
       "    <tr>\n",
       "      <th>3</th>\n",
       "      <td>203.390603</td>\n",
       "      <td>2008</td>\n",
       "    </tr>\n",
       "    <tr>\n",
       "      <th>4</th>\n",
       "      <td>241.292566</td>\n",
       "      <td>2009</td>\n",
       "    </tr>\n",
       "  </tbody>\n",
       "</table>\n",
       "</div>"
      ],
      "text/plain": [
       "      traffic  year\n",
       "0  100.000000  2005\n",
       "1  126.933755  2006\n",
       "2  160.303757  2007\n",
       "3  203.390603  2008\n",
       "4  241.292566  2009"
      ]
     },
     "execution_count": 20,
     "metadata": {},
     "output_type": "execute_result"
    }
   ],
   "source": [
    "dfc =df[['traffic','year']]\n",
    "dfc.head()"
   ]
  },
  {
   "cell_type": "code",
   "execution_count": 21,
   "metadata": {},
   "outputs": [
    {
     "data": {
      "image/png": "[encoded data removed]",
      "text/plain": [
       "<Figure size 432x288 with 2 Axes>"
      ]
     },
     "metadata": {
      "needs_background": "light"
     },
     "output_type": "display_data"
    }
   ],
   "source": [
    "viz =dfc[['traffic','year']]\n",
    "viz.hist()\n",
    "plt.show()"
   ]
  },
  {
   "cell_type": "code",
   "execution_count": 24,
   "metadata": {},
   "outputs": [
    {
     "data": {
      "image/png": "[encoded data removed]",
      "text/plain": [
       "<Figure size 432x288 with 1 Axes>"
      ]
     },
     "metadata": {
      "needs_background": "light"
     },
     "output_type": "display_data"
    }
   ],
   "source": [
    "plt.scatter(dfc.year, dfc.traffic, color ='blue')\n",
    "x = df.year\n",
    "y = df.traffic\n",
    "plt.plot(x, y, label =' ', linewidth = 7)\n",
    "plt.plot(x, y,'*k', markersize = 14, label = '')\n",
    "plt.xlabel('YEAR')\n",
    "plt.ylabel('FIX INTERNET TRAFFIC VOLUME')\n",
    "plt.show()"
   ]
  },
  {
   "cell_type": "code",
   "execution_count": 25,
   "metadata": {},
   "outputs": [
    {
     "ename": "SyntaxError",
     "evalue": "invalid syntax (<ipython-input-25-b7933327b991>, line 1)",
     "output_type": "error",
     "traceback": [
      "\u001b[1;36m  File \u001b[1;32m\"<ipython-input-25-b7933327b991>\"\u001b[1;36m, line \u001b[1;32m1\u001b[0m\n\u001b[1;33m    tep 1: Overlay a simple linear regression model over the Internet historical data.\u001b[0m\n\u001b[1;37m        ^\u001b[0m\n\u001b[1;31mSyntaxError\u001b[0m\u001b[1;31m:\u001b[0m invalid syntax\n"
     ]
    }
   ],
   "source": [
    "tep 1: Overlay a simple linear regression model over the Internet historical data.\n",
    "# Code cell 6\n",
    "# Create a slightly bigger figure use all the available space\n",
    "plt.figure(figsize = (20,10))\n",
    "\n",
    "order = 1\n",
    "\n",
    "# XY Plot of year and traffic\n",
    "x = dfc.year\n",
    "y = dfc.traffic\n",
    "\n",
    "m, b = np.polyfit(x,y,order)\n",
    "\n",
    "plt.plot(x, y, label = 'Historical Internet Traffic', linewidth = 7)\n",
    "plt.plot(x, y,'*k', markersize = 15, label ='')\n",
    "plt.plot(x, m*x + b, '-', label = 'Simple Linear Regression Line', linewidth = 6)\n",
    "\n",
    "print ('The slope of line is {}.'.format(m))\n",
    "print ('The y intercept is {}.'.format(b))\n",
    "print ('The best fit simple linear regression line is {}x + {}.'.format(m,b))\n",
    "\n",
    "\n",
    "#Increase sligthly the axis sizes to make the plot more clear\n",
    "#plt.axis([x.iloc[0]-1, x.iloc[-1]+1, y.iloc[0]*-0.1, y.iloc[-1]*1.1])\n",
    "\n",
    "# Add axis labels\n",
    "plt.xlabel('Year')\n",
    "plt.ylabel('Fixed Internet Traffic Volume')\n",
    "plt.legend(loc = 'upper left')\n",
    "\n",
    "\n",
    "# Increase default font size\n",
    "plt.rcParams.update({'font.size': 26})\n",
    "plt.show()"
   ]
  },
  {
   "cell_type": "code",
   "execution_count": null,
   "metadata": {},
   "outputs": [],
   "source": [
    "# Code cell 7\n",
    "models = []       # to store polynomial model parameters (list of poly1d objects)\n",
    "errors_hist = []  # to store the absolute errors for each point (2005-2015) and for each model (list of numpy arrays )\n",
    "mse_hist = []     # to store the MSE for each model (list of numpy floats)\n",
    "\n",
    "#Try polynomial models with increasing order\n",
    "for order in range(1,4):\n",
    "    # Fit polynomial model\n",
    "    p = (np.poly1d(np.polyfit(x, y, order)))\n",
    "    models.append(p)\n",
    "    \n",
    "plt.figure(figsize = (20,10))\n",
    "\n",
    "# Visualize polynomial models fit\n",
    "for model in models[0:3]:\n",
    "    plt.plot(x, model(x), label = 'order ' + str(len(model)), linewidth = 7)\n",
    "\n",
    "plt.plot(x, y, '*k', markersize = 14, label = 'Historical Internet Traffic', linewidth = 7)\n",
    "plt.legend(loc = 'upper left')\n",
    "\n",
    "# Add axis labels\n",
    "plt.xlabel('Year')\n",
    "plt.ylabel('Fixed Internet Traffic Volume')\n",
    "\n",
    "plt.show()"
   ]
  },
  {
   "cell_type": "code",
   "execution_count": 26,
   "metadata": {},
   "outputs": [],
   "source": [
    "# Code cell 8\n",
    "# Calculate and store the erros\n",
    "models = []       # to store polynomial model parameters (list of poly1d objects)\n",
    "errors_hist = []  # to store the absolute errors for each point (2005-2015) and for each model (list of numpy arrays )\n",
    "mse_hist = []     # to store the MSE for each model (list of numpy floats)\n",
    "\n",
    "#Try polynomial models with increasing order\n",
    "for order in range(1,4):\n",
    "    # Fit polynomial model\n",
    "    p = (np.poly1d(np.polyfit(x, y, order)))\n",
    "    models.append(p)\n",
    "    \n",
    "    e = np.abs(y-p(x))        # absolute error\n",
    "    mse = np.sum(e**2)/len(dfc) # mse\n",
    "    \n",
    "    errors_hist.append(e)   #Store the absolute errors\n",
    "    mse_hist.append(mse) # Store the mse"
   ]
  },
  {
   "cell_type": "code",
   "execution_count": 27,
   "metadata": {},
   "outputs": [
    {
     "data": {
      "image/png": "[encoded data removed]",
      "text/plain": [
       "<Figure size 1440x720 with 1 Axes>"
      ]
     },
     "metadata": {
      "needs_background": "light"
     },
     "output_type": "display_data"
    },
    {
     "data": {
      "image/png": "[encoded data removed]",
      "text/plain": [
       "<Figure size 1440x720 with 1 Axes>"
      ]
     },
     "metadata": {
      "needs_background": "light"
     },
     "output_type": "display_data"
    }
   ],
   "source": [
    "# Code cell 9\n",
    "# Visualize fit error for each year\n",
    "\n",
    "x = dfc.year\n",
    "width = 0.2   #size of the bar\n",
    "\n",
    "fig = plt.figure(figsize=(20,10))\n",
    "ax = fig.add_subplot(111)\n",
    "\n",
    "p1 = ax.bar( x, errors_hist[0], width, color = 'b', label = 'Abs. error order 1 fit')\n",
    "p2 = ax.bar( x + width, errors_hist[1], width, color = 'r', label = 'Abs. error order 2 fit')\n",
    "p3 = ax.bar( x + 2*width, errors_hist[2], width, color = 'y', label = 'Abs. error order 3 fit')\n",
    "\n",
    "# \"Prettyfy\" the bar graph\n",
    "ax.set_xticks(x+2*width)\n",
    "ax.set_xticklabels(x)\n",
    "plt.legend(loc = 'upper left', fontsize =16)\n",
    "plt.show()\n",
    "\n",
    "#Visualise MSE for each model\n",
    "fig = plt.figure(figsize=(20,10))\n",
    "ax = fig.add_subplot(111)\n",
    "\n",
    "x = np.array([0,1,2])\n",
    "width = .6   #size of the bar\n",
    "\n",
    "p1 = ax.bar( x[0], mse_hist[0], width, color = 'b', label = 'pred. error order 1 fit')\n",
    "p2 = ax.bar( x[1], mse_hist[1], width, color = 'r', label = 'pred. error order 2 fit')\n",
    "p3 = ax.bar( x[2], mse_hist[2], width, color = 'y', label = 'pred. error order 3 fit')\n",
    "\n",
    "ax.set_xticks(x+width/2)\n",
    "ax.set_xticklabels(['Poly. order 1', 'Poly. order 2', 'Poly. order 3'], rotation=90)\n",
    "plt.show()"
   ]
  },
  {
   "cell_type": "code",
   "execution_count": 28,
   "metadata": {},
   "outputs": [
    {
     "name": "stdout",
     "output_type": "stream",
     "text": [
      "<class 'numpy.ndarray'> [ 4.83129478e-01 -2.90500623e+03  5.82252175e+06 -3.89005447e+09]\n",
      "<class 'numpy.poly1d'>         3        2\n",
      "0.4831 x - 2905 x + 5.823e+06 x - 3.89e+09\n",
      "The value of the polynomial for x = 2020 is : 2328.5784873962402 \n",
      "The estimated polynomial parameters are:         3        2\n",
      "0.4831 x - 2905 x + 5.823e+06 x - 3.89e+09\n",
      "The errors for each value of x, given the estimated polynomial parameters are: \n",
      " [1.30740833 0.39123738 2.02723837 6.32984114 5.28393449 0.93068705\n",
      " 9.4169121  7.34011274 6.27730844 4.48132836 0.16290615]\n",
      "The MSE is :25.17218560846087\n"
     ]
    }
   ],
   "source": [
    "# Code cell 10\n",
    "# Polynomial function order\n",
    "order = 3\n",
    "\n",
    "x = dfc.year.values      # regressor\n",
    "y = dfc.traffic.values   # regressand\n",
    "\n",
    "# Fit the model, return the polynomial parameter values in a numpy array such that\n",
    "# y = p[0]*x**order + p[1]*x*(order-1) ...\n",
    "\n",
    "p_array = np.polyfit(x,y,order)\n",
    "\n",
    "print(type(p_array), p_array)\n",
    "\n",
    "# poly1d is a convenience class, used to encapsulate “natural” operations on polynomials \n",
    "# so that said operations may take on their customary form in code\n",
    "\n",
    "# wrap the p_array in a poly1 object\n",
    "p = np.poly1d(p_array)\n",
    "\n",
    "print(type(p), p)\n",
    "\n",
    "# use the poly1d object to evaluate the value of the polynomial in a specific point\n",
    "print('The value of the polynomial for x = 2020 is : {} '.format(p(2020)))\n",
    "\n",
    "# compute the absolute error for each value of x and the MSE error for the estimated polynomial model\n",
    "e = np.abs(y-p(x))\n",
    "mse = np.sum(e**2)/len(x)\n",
    "\n",
    "print('The estimated polynomial parameters are: {}'.format(p))\n",
    "print('The errors for each value of x, given the estimated polynomial parameters are: \\n {}'.format(e))\n",
    "print('The MSE is :{}'.format(mse))"
   ]
  },
  {
   "cell_type": "code",
   "execution_count": 29,
   "metadata": {},
   "outputs": [
    {
     "name": "stdout",
     "output_type": "stream",
     "text": [
      "The estimated exponential parameters are: [103.37820144   1.24678465]\n",
      "The errors for each value of x, given the estimated exponential parameters are: \n",
      " [ 3.37820144  1.95659902  0.39475805  3.0341622   8.50876828  2.65664477\n",
      "  8.32850905 11.70265948 12.59154094  0.47531785  7.10276497]\n",
      "The MSE is :47.23616366678712\n"
     ]
    }
   ],
   "source": [
    "# Code cell 11\n",
    "# Non linear regression model fitting\n",
    "\n",
    "# First, define the regression model function, in this case, we'll choose an exponential of the form y= a*(b^(x))\n",
    "def my_exp_func(x, a, b):\n",
    "    return a * (b ** x) \n",
    "\n",
    "x = np.arange(2016-2005)    # the regressor is not the year in itself, but the number of years from 2005\n",
    "y = dfc.traffic.values  # regressand\n",
    "\n",
    "# use curve_fit to find the exponential parameters vector p. cov expresses the confidence of the \n",
    "# algorithm on the estimated parameters \n",
    "p, cov = curve_fit(my_exp_func, x, y)\n",
    "e = np.abs(y - my_exp_func(x, *p))\n",
    "mse = np.sum(e**2)/len(dfc)\n",
    "\n",
    "print('The estimated exponential parameters are: {}'.format(p))\n",
    "print('The errors for each value of x, given the estimated exponential parameters are: \\n {}'.format(e))\n",
    "print('The MSE is :{}'.format(mse))\n",
    "\n",
    "models.append(p)\n",
    "\n",
    "errors_hist.append(e) # Store the absolute error \n",
    "mse_hist.append(mse)"
   ]
  },
  {
   "cell_type": "code",
   "execution_count": 30,
   "metadata": {},
   "outputs": [
    {
     "data": {
      "image/png": "[encoded data removed]",
      "text/plain": [
       "<Figure size 1440x720 with 1 Axes>"
      ]
     },
     "metadata": {
      "needs_background": "light"
     },
     "output_type": "display_data"
    }
   ],
   "source": [
    "# Code cell 12\n",
    "plt.figure(figsize = (20,10))\n",
    "\n",
    "# Visualize polynomial models fit\n",
    "for model in models[0:-1]:\n",
    "    \n",
    "    x = dfc.year.values      \n",
    "    y = dfc.traffic.values   \n",
    "    plt.plot(x, model(x), label = 'order ' + str(len(model)), linewidth = 7)\n",
    "\n",
    "# Visualize exponenetial model fit\n",
    "x = np.arange(2016-2005)    # the regressor is not the year in itself, but the number of years from 2005\n",
    "plt.plot(dfc.year.values, my_exp_func(x, *models[-1]), label = 'Exp. non-linear regression', linewidth = 7)\n",
    "\n",
    "plt.plot(dfc.year, dfc.traffic, '*k', markersize = 14, label='Historical Internet Traffic')\n",
    "plt.legend(loc = 'upper left')\n",
    "\n",
    "# Add axis labels\n",
    "plt.xlabel('Year')\n",
    "plt.ylabel('Fixed Internet Traffic Volume')\n",
    "plt.show()"
   ]
  },
  {
   "cell_type": "code",
   "execution_count": 31,
   "metadata": {},
   "outputs": [
    {
     "data": {
      "image/png": "[encoded data removed]",
      "text/plain": [
       "<Figure size 1440x720 with 1 Axes>"
      ]
     },
     "metadata": {
      "needs_background": "light"
     },
     "output_type": "display_data"
    },
    {
     "data": {
      "image/png": "[encoded data removed]",
      "text/plain": [
       "<Figure size 1440x720 with 1 Axes>"
      ]
     },
     "metadata": {
      "needs_background": "light"
     },
     "output_type": "display_data"
    }
   ],
   "source": [
    "# Code cell 13\n",
    "# Visualize fit error for each year\n",
    "\n",
    "x = dfc.year\n",
    "width = 0.2   #size of the bar\n",
    "\n",
    "fig = plt.figure(figsize=(20,10))\n",
    "ax = fig.add_subplot(111)\n",
    "\n",
    "p1 = ax.bar( x, errors_hist[0], width, color = 'b', label = 'Abs. error order 1 fit')\n",
    "p2 = ax.bar( x + width, errors_hist[1], width, color = 'r', label = 'Abs. error order 2 fit')\n",
    "p3 = ax.bar( x + 2*width, errors_hist[2], width, color = 'y', label = 'Abs. error order 3 fit')\n",
    "p4 = ax.bar( x + 3*width, errors_hist[3], width, color = 'g', label = 'Abs. exponential fit')\n",
    "\n",
    "# \"Prettyfy\" the bar graph\n",
    "ax.set_xticks(x+2*width)\n",
    "ax.set_xticklabels(x)\n",
    "plt.legend(loc = 'upper left', fontsize =16)\n",
    "plt.show()\n",
    "\n",
    "#Visualise MSE for each model\n",
    "fig = plt.figure(figsize=(20,10))\n",
    "ax = fig.add_subplot(111)\n",
    "\n",
    "x = np.array([0,1,2,3])\n",
    "width = .6   #size of the bar\n",
    "\n",
    "p1 = ax.bar( x[0], mse_hist[0], width, color = 'b', label = 'pred. error order 1 fit')\n",
    "p2 = ax.bar( x[1], mse_hist[1], width, color = 'r', label = 'pred. error order 2 fit')\n",
    "p3 = ax.bar( x[2], mse_hist[2], width, color = 'y', label = 'pred. error order 3 fit')\n",
    "p4 = ax.bar( x[3], mse_hist[3], width, color = 'g', label = 'pred. exponential fit')\n",
    "\n",
    "ax.set_xticks(x+width/2)\n",
    "ax.set_xticklabels(['Poly. order 1', 'Poly. order 2', 'Poly. order 3', 'Exp. model' ], rotation=90)\n",
    "plt.show()"
   ]
  },
  {
   "cell_type": "code",
   "execution_count": null,
   "metadata": {},
   "outputs": [],
   "source": []
  },
  {
   "cell_type": "code",
   "execution_count": null,
   "metadata": {},
   "outputs": [],
   "source": []
  }
 ],
 "metadata": {
  "kernelspec": {
   "display_name": "Python 3",
   "language": "python",
   "name": "python3"
  },
  "language_info": {
   "codemirror_mode": {
    "name": "ipython",
    "version": 3
   },
   "file_extension": ".py",
   "mimetype": "text/x-python",
   "name": "python",
   "nbconvert_exporter": "python",
   "pygments_lexer": "ipython3",
   "version": "3.8.3"
  }
 },
 "nbformat": 4,
 "nbformat_minor": 4
}
